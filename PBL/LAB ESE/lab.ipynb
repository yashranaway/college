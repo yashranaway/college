{
 "cells": [
  {
   "cell_type": "code",
   "execution_count": null,
   "metadata": {},
   "outputs": [
    {
     "name": "stdout",
     "output_type": "stream",
     "text": [
      "hello\n"
     ]
    }
   ],
   "source": [
    "#   Create a Dataframe and perform aggregation operations like sum and max on it's numeric columns\n"
   ]
  },
  {
   "cell_type": "code",
   "execution_count": 2,
   "metadata": {},
   "outputs": [],
   "source": [
    "import pandas as pd\n",
    "\n"
   ]
  },
  {
   "cell_type": "code",
   "execution_count": 4,
   "metadata": {},
   "outputs": [
    {
     "name": "stdout",
     "output_type": "stream",
     "text": [
      "Original DataFrame:\n",
      "   Unnamed: 0  CustomerID Gender Location  Tenure_Months  Transaction_ID  \\\n",
      "0           0     17850.0      M  Chicago           12.0         16679.0   \n",
      "1           1     17850.0      M  Chicago           12.0         16680.0   \n",
      "2           2     17850.0      M  Chicago           12.0         16696.0   \n",
      "3           3     17850.0      M  Chicago           12.0         16699.0   \n",
      "4           4     17850.0      M  Chicago           12.0         16700.0   \n",
      "\n",
      "  Transaction_Date     Product_SKU  \\\n",
      "0       2019-01-01  GGOENEBJ079499   \n",
      "1       2019-01-01  GGOENEBJ079499   \n",
      "2       2019-01-01  GGOENEBQ078999   \n",
      "3       2019-01-01  GGOENEBQ079099   \n",
      "4       2019-01-01  GGOENEBJ079499   \n",
      "\n",
      "                                 Product_Description Product_Category  ...  \\\n",
      "0  Nest Learning Thermostat 3rd Gen-USA - Stainle...         Nest-USA  ...   \n",
      "1  Nest Learning Thermostat 3rd Gen-USA - Stainle...         Nest-USA  ...   \n",
      "2             Nest Cam Outdoor Security Camera - USA         Nest-USA  ...   \n",
      "3    Nest Protect Smoke + CO White Battery Alarm-USA         Nest-USA  ...   \n",
      "4  Nest Learning Thermostat 3rd Gen-USA - Stainle...         Nest-USA  ...   \n",
      "\n",
      "   Avg_Price  Delivery_Charges  Coupon_Status  GST      Date Offline_Spend  \\\n",
      "0     153.71               6.5           Used  0.1  1/1/2019        4500.0   \n",
      "1     153.71               6.5           Used  0.1  1/1/2019        4500.0   \n",
      "2     122.77               6.5       Not Used  0.1  1/1/2019        4500.0   \n",
      "3      81.50               6.5        Clicked  0.1  1/1/2019        4500.0   \n",
      "4     153.71               6.5        Clicked  0.1  1/1/2019        4500.0   \n",
      "\n",
      "   Online_Spend  Month  Coupon_Code Discount_pct  \n",
      "0        2424.5      1       ELEC10         10.0  \n",
      "1        2424.5      1       ELEC10         10.0  \n",
      "2        2424.5      1       ELEC10         10.0  \n",
      "3        2424.5      1       ELEC10         10.0  \n",
      "4        2424.5      1       ELEC10         10.0  \n",
      "\n",
      "[5 rows x 21 columns]\n",
      "\n",
      "Aggregated Results for Numeric Columns:\n",
      "                           sum       max       min          mean  \\\n",
      "Unnamed: 0        1.402090e+09  52954.00      0.00  26477.000000   \n",
      "CustomerID        8.122093e+08  18283.00  12346.00  15346.709810   \n",
      "Tenure_Months     1.382798e+06     50.00      2.00     26.127995   \n",
      "Transaction_ID    1.715258e+09  48497.00  16679.00  32409.825675   \n",
      "Quantity          2.380330e+05    900.00      1.00      4.497638   \n",
      "Avg_Price         2.764625e+06    355.74      0.39     52.237646   \n",
      "Delivery_Charges  5.566351e+05    521.36      0.00     10.517630   \n",
      "GST               7.275030e+03      0.18      0.05      0.137462   \n",
      "Offline_Spend     1.498233e+08   5000.00    500.00   2830.914141   \n",
      "Online_Spend      1.001909e+08   4556.93    320.25   1893.109119   \n",
      "Month             3.522990e+05     12.00      1.00      6.652800   \n",
      "Discount_pct      1.048650e+06     30.00     10.00     19.953382   \n",
      "\n",
      "                           std    median  \n",
      "Unnamed: 0        15286.936089  26477.00  \n",
      "CustomerID         1766.556020  15311.00  \n",
      "Tenure_Months        13.478285     27.00  \n",
      "Transaction_ID     8648.668977  32625.50  \n",
      "Quantity             20.104711      1.00  \n",
      "Avg_Price            64.006882     16.99  \n",
      "Delivery_Charges     19.475613      6.00  \n",
      "GST                   0.045825      0.18  \n",
      "Offline_Spend       936.154247   3000.00  \n",
      "Online_Spend        807.014092   1837.87  \n",
      "Month                 3.333664      7.00  \n",
      "Discount_pct          8.127108     20.00  \n",
      "\n",
      "Aggregated results have been saved to: aggregated_results.csv\n"
     ]
    }
   ],
   "source": [
    "import pandas as pd\n",
    "\n",
    "# Step 1: Load the CSV file into a DataFrame\n",
    "file_path = \"/Users/adityagarud/Documents/Codes/college/PBL/LAB ESE/file.csv\"\n",
    "df = pd.read_csv(file_path)\n",
    "\n",
    "# Step 2: Display the first few rows of the DataFrame to understand its structure\n",
    "print(\"Original DataFrame:\")\n",
    "print(df.head())\n",
    "\n",
    "# Step 3: Select only the numeric columns from the DataFrame\n",
    "numeric_columns = df.select_dtypes(include=['number'])\n",
    "\n",
    "# Step 4: Perform multiple aggregation operations on the numeric columns\n",
    "# We will calculate the sum, maximum, minimum, mean, standard deviation, and median for each numeric column\n",
    "aggregated_results = numeric_columns.agg(['sum', 'max', 'min', 'mean', 'std', 'median'])\n",
    "\n",
    "# Step 5: Transpose the results for better readability\n",
    "# This will make each numeric column a row and each aggregation operation a column\n",
    "aggregated_results = aggregated_results.T\n",
    "\n",
    "# Step 6: Display the aggregated results\n",
    "print(\"\\nAggregated Results for Numeric Columns:\")\n",
    "print(aggregated_results)\n",
    "\n",
    "# Step 7: Save the aggregated results to a CSV file\n",
    "output_path = \"aggregated_results.csv\"\n",
    "aggregated_results.to_csv(output_path, index=True)\n",
    "print(f\"\\nAggregated results have been saved to: {output_path}\")"
   ]
  }
 ],
 "metadata": {
  "kernelspec": {
   "display_name": "Python 3",
   "language": "python",
   "name": "python3"
  },
  "language_info": {
   "codemirror_mode": {
    "name": "ipython",
    "version": 3
   },
   "file_extension": ".py",
   "mimetype": "text/x-python",
   "name": "python",
   "nbconvert_exporter": "python",
   "pygments_lexer": "ipython3",
   "version": "3.13.0"
  }
 },
 "nbformat": 4,
 "nbformat_minor": 2
}
